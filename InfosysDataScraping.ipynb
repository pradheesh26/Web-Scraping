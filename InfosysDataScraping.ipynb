{
  "nbformat": 4,
  "nbformat_minor": 0,
  "metadata": {
    "colab": {
      "provenance": []
    },
    "kernelspec": {
      "name": "python3",
      "display_name": "Python 3"
    },
    "language_info": {
      "name": "python"
    }
  },
  "cells": [
    {
      "cell_type": "code",
      "execution_count": 3,
      "metadata": {
        "id": "BAQ09zHM13FK"
      },
      "outputs": [],
      "source": [
        "import requests as r\n",
        "import pandas as pd\n",
        "from bs4 import BeautifulSoup"
      ]
    },
    {
      "cell_type": "code",
      "source": [
        "# getting the url's html contents as text\n",
        "\n",
        "url = 'https://www.infosys.com/investors/reports-filings/annual-report/annual-reports.html'\n",
        "data = r.get(url).text"
      ],
      "metadata": {
        "id": "EmytMi8R2E6I"
      },
      "execution_count": 4,
      "outputs": []
    },
    {
      "cell_type": "code",
      "source": [
        "# creating a beautiful soup object\n",
        "\n",
        "soup = BeautifulSoup(data,'html.parser')"
      ],
      "metadata": {
        "id": "cSsbHPLg2cnY"
      },
      "execution_count": 5,
      "outputs": []
    },
    {
      "cell_type": "code",
      "source": [
        "# Extracting column names from the table\n",
        "col_names = soup.find_all('th')\n",
        "\n",
        "column_names = []\n",
        "for columns in col_names:\n",
        "  cols = \"\".join(columns.contents)\n",
        "  column_names.append(cols)\n",
        "\n",
        "column_names"
      ],
      "metadata": {
        "id": "nEoeDEDw3_sP",
        "colab": {
          "base_uri": "https://localhost:8080/"
        },
        "outputId": "2bb34ac8-3f60-481c-aa79-57853c44bfc4"
      },
      "execution_count": 6,
      "outputs": [
        {
          "output_type": "execute_result",
          "data": {
            "text/plain": [
              "['',\n",
              " 'Annual Reports',\n",
              " 'Form 20-F',\n",
              " 'Additional Information',\n",
              " 'Subsidiary Financials',\n",
              " 'ESG / Sustainability Reports',\n",
              " 'Annual returns',\n",
              " 'CSR action plan',\n",
              " 'CSR Capital assets schedule',\n",
              " 'CSR impact assessment reports ']"
            ]
          },
          "metadata": {},
          "execution_count": 6
        }
      ]
    },
    {
      "cell_type": "code",
      "source": [
        "#extracting year information in the tables\n",
        "ad = soup.find_all('td')\n",
        "\n",
        "rowsDf = []\n",
        "for row_names in ad:\n",
        "  if row_names.find('strong'):\n",
        "    rows = \"\".join(row_names.find('strong').contents)\n",
        "    rowsDf.append(rows)\n",
        "\n",
        "rowsDf"
      ],
      "metadata": {
        "colab": {
          "base_uri": "https://localhost:8080/"
        },
        "id": "Jw9atS04zqfd",
        "outputId": "ba2e4ce8-d015-45b4-c69b-6419c81ddb5c"
      },
      "execution_count": 7,
      "outputs": [
        {
          "output_type": "execute_result",
          "data": {
            "text/plain": [
              "['2023-24',\n",
              " '2022-23',\n",
              " '2021-22',\n",
              " '2020-21',\n",
              " '2019-20',\n",
              " '2018-19',\n",
              " '2017-18',\n",
              " '2016-17',\n",
              " '2015-16',\n",
              " '2014-15',\n",
              " '2013-14',\n",
              " '2012-13*',\n",
              " '2011-12',\n",
              " '2010-11',\n",
              " '2009-10',\n",
              " '2008-09',\n",
              " '2007-08',\n",
              " '2006-07',\n",
              " '2005-06',\n",
              " '2004-05',\n",
              " '2003-04',\n",
              " '2002-03',\n",
              " '2001-02',\n",
              " '2000-01',\n",
              " '1999-00',\n",
              " '1998-99',\n",
              " '1997-98',\n",
              " '1996-97',\n",
              " '1995-96',\n",
              " '1994-95',\n",
              " '1993-94']"
            ]
          },
          "metadata": {},
          "execution_count": 7
        }
      ]
    },
    {
      "cell_type": "code",
      "source": [
        "# extracting the file links of reports\n",
        "\n",
        "hp = soup.find_all('a', attrs = {'title' : 'Annual Report - PDF'})\n",
        "\n",
        "links = []\n",
        "for con in hp:\n",
        "  link = con.get('href')\n",
        "  links.append(link)\n",
        "\n",
        "print(links)"
      ],
      "metadata": {
        "colab": {
          "base_uri": "https://localhost:8080/"
        },
        "id": "RPJ1HuC9Fxb0",
        "outputId": "31a9e56b-5028-4b18-b120-1cebe0715747"
      },
      "execution_count": 8,
      "outputs": [
        {
          "output_type": "stream",
          "name": "stdout",
          "text": [
            "['/investors/reports-filings/annual-report/annual/documents/infosys-ar-23.pdf', '/investors/reports-filings/annual-report/annual/documents/infosys-ar-22.pdf', '/investors/reports-filings/annual-report/annual/documents/infosys-ar-21.pdf', '/investors/reports-filings/annual-report/annual/documents/infosys-ar-20.pdf', '/investors/reports-filings/annual-report/annual/documents/infosys-ar-19.pdf', '/investors/reports-filings/annual-report/annual/documents/infosys-ar-18.pdf', '/investors/reports-filings/annual-report/annual/documents/infosys-ar-17.pdf', '/investors/reports-filings/annual-report/annual/documents/infosys-ar-16.pdf']\n"
          ]
        }
      ]
    },
    {
      "cell_type": "code",
      "source": [
        "# extracting the file links of reports\n",
        "\n",
        "hp = soup.find_all('a', attrs = {'title' : 'Annual Report'})\n",
        "\n",
        "lns = []\n",
        "for con in hp:\n",
        "  link = con.get('href')\n",
        "  lns.append(link)\n",
        "\n",
        "lns"
      ],
      "metadata": {
        "colab": {
          "base_uri": "https://localhost:8080/"
        },
        "id": "70LkwDF5SRBn",
        "outputId": "a968eeb3-8a08-469a-9600-0391c3ed0104"
      },
      "execution_count": 9,
      "outputs": [
        {
          "output_type": "execute_result",
          "data": {
            "text/plain": [
              "['/investors/reports-filings/annual-report/annual/documents/infosys-ar-15.pdf',\n",
              " '/investors/reports-filings/annual-report/annual/documents/infosys-ar-14.pdf',\n",
              " '/investors/reports-filings/annual-report/annual/documents/infosys-ar-13.pdf',\n",
              " '/investors/reports-filings/annual-report/annual/documents/infosys-ar-12.pdf',\n",
              " '/investors/reports-filings/annual-report/annual/documents/infosys-ar-11.pdf',\n",
              " '/content/dam/infosys-web/en/investors/reports-filings/annual-report/annual/documents/ar-2011/index.html',\n",
              " '/investors/reports-filings/annual-report/annual/documents/infosys-ar-10.pdf',\n",
              " '/investors/reports-filings/annual-report/annual/documents/infosys-ar-09.pdf',\n",
              " '/investors/reports-filings/annual-report/annual/documents/infosys-ar-08.pdf',\n",
              " '/investors/reports-filings/annual-report/annual/documents/infosys-ar-07.pdf',\n",
              " '/investors/reports-filings/annual-report/annual/documents/infosys-ar-06.pdf',\n",
              " '/investors/reports-filings/annual-report/annual/documents/infosys-ar-05.pdf',\n",
              " '/investors/reports-filings/annual-report/annual/documents/infosys-ar-04.pdf',\n",
              " '/investors/reports-filings/annual-report/annual/documents/infosys-ar-03.pdf',\n",
              " '/investors/reports-filings/annual-report/annual/documents/infosys-ar-02.pdf',\n",
              " '/investors/reports-filings/annual-report/annual/documents/infosys-ar-01.pdf',\n",
              " '/investors/reports-filings/annual-report/annual/documents/infosys-ar-2k.pdf',\n",
              " '/investors/reports-filings/annual-report/annual/documents/infosys-ar-99.pdf',\n",
              " '/investors/reports-filings/annual-report/annual/documents/infosys-ar-98.pdf',\n",
              " '/investors/reports-filings/annual-report/annual/documents/infosys-ar-97.pdf',\n",
              " '/investors/reports-filings/annual-report/annual/documents/infosys-ar-96.pdf',\n",
              " '/investors/reports-filings/annual-report/annual/documents/infosys-ar-95.pdf',\n",
              " '/investors/reports-filings/annual-report/annual/documents/infosys-ar-94.pdf']"
            ]
          },
          "metadata": {},
          "execution_count": 9
        }
      ]
    },
    {
      "cell_type": "code",
      "source": [
        "#creating final list containing all the links\n",
        "final_links = links + lns\n",
        "\n",
        "len(final_links)"
      ],
      "metadata": {
        "colab": {
          "base_uri": "https://localhost:8080/"
        },
        "id": "lrn-5j9kSiEJ",
        "outputId": "0b500034-a73c-4fa6-a100-bbc122177264"
      },
      "execution_count": 10,
      "outputs": [
        {
          "output_type": "execute_result",
          "data": {
            "text/plain": [
              "31"
            ]
          },
          "metadata": {},
          "execution_count": 10
        }
      ]
    },
    {
      "cell_type": "code",
      "source": [
        "import pandas as pd\n",
        "\n",
        "# putting the report file link along with its year in a data frame\n",
        "\n",
        "outputDF = pd.DataFrame({'Annual Reports' : final_links}, index = rowsDf)\n",
        "\n",
        "print(outputDF)"
      ],
      "metadata": {
        "colab": {
          "base_uri": "https://localhost:8080/"
        },
        "id": "75maptZCS-jF",
        "outputId": "a50e45b9-dc4e-41ba-9f55-26b21f8c9079"
      },
      "execution_count": 11,
      "outputs": [
        {
          "output_type": "stream",
          "name": "stdout",
          "text": [
            "                                             Annual Reports\n",
            "2023-24   /investors/reports-filings/annual-report/annua...\n",
            "2022-23   /investors/reports-filings/annual-report/annua...\n",
            "2021-22   /investors/reports-filings/annual-report/annua...\n",
            "2020-21   /investors/reports-filings/annual-report/annua...\n",
            "2019-20   /investors/reports-filings/annual-report/annua...\n",
            "2018-19   /investors/reports-filings/annual-report/annua...\n",
            "2017-18   /investors/reports-filings/annual-report/annua...\n",
            "2016-17   /investors/reports-filings/annual-report/annua...\n",
            "2015-16   /investors/reports-filings/annual-report/annua...\n",
            "2014-15   /investors/reports-filings/annual-report/annua...\n",
            "2013-14   /investors/reports-filings/annual-report/annua...\n",
            "2012-13*  /investors/reports-filings/annual-report/annua...\n",
            "2011-12   /investors/reports-filings/annual-report/annua...\n",
            "2010-11   /content/dam/infosys-web/en/investors/reports-...\n",
            "2009-10   /investors/reports-filings/annual-report/annua...\n",
            "2008-09   /investors/reports-filings/annual-report/annua...\n",
            "2007-08   /investors/reports-filings/annual-report/annua...\n",
            "2006-07   /investors/reports-filings/annual-report/annua...\n",
            "2005-06   /investors/reports-filings/annual-report/annua...\n",
            "2004-05   /investors/reports-filings/annual-report/annua...\n",
            "2003-04   /investors/reports-filings/annual-report/annua...\n",
            "2002-03   /investors/reports-filings/annual-report/annua...\n",
            "2001-02   /investors/reports-filings/annual-report/annua...\n",
            "2000-01   /investors/reports-filings/annual-report/annua...\n",
            "1999-00   /investors/reports-filings/annual-report/annua...\n",
            "1998-99   /investors/reports-filings/annual-report/annua...\n",
            "1997-98   /investors/reports-filings/annual-report/annua...\n",
            "1996-97   /investors/reports-filings/annual-report/annua...\n",
            "1995-96   /investors/reports-filings/annual-report/annua...\n",
            "1994-95   /investors/reports-filings/annual-report/annua...\n",
            "1993-94   /investors/reports-filings/annual-report/annua...\n"
          ]
        }
      ]
    },
    {
      "cell_type": "code",
      "source": [
        "outputDF.head(31)"
      ],
      "metadata": {
        "id": "vcnTTNYnjmEJ",
        "outputId": "154d4458-4ace-4c8f-e89d-ddb46ae189d1",
        "colab": {
          "base_uri": "https://localhost:8080/",
          "height": 650
        }
      },
      "execution_count": 12,
      "outputs": [
        {
          "output_type": "execute_result",
          "data": {
            "text/plain": [
              "                                             Annual Reports\n",
              "2023-24   /investors/reports-filings/annual-report/annua...\n",
              "2022-23   /investors/reports-filings/annual-report/annua...\n",
              "2021-22   /investors/reports-filings/annual-report/annua...\n",
              "2020-21   /investors/reports-filings/annual-report/annua...\n",
              "2019-20   /investors/reports-filings/annual-report/annua...\n",
              "2018-19   /investors/reports-filings/annual-report/annua...\n",
              "2017-18   /investors/reports-filings/annual-report/annua...\n",
              "2016-17   /investors/reports-filings/annual-report/annua...\n",
              "2015-16   /investors/reports-filings/annual-report/annua...\n",
              "2014-15   /investors/reports-filings/annual-report/annua...\n",
              "2013-14   /investors/reports-filings/annual-report/annua...\n",
              "2012-13*  /investors/reports-filings/annual-report/annua...\n",
              "2011-12   /investors/reports-filings/annual-report/annua...\n",
              "2010-11   /content/dam/infosys-web/en/investors/reports-...\n",
              "2009-10   /investors/reports-filings/annual-report/annua...\n",
              "2008-09   /investors/reports-filings/annual-report/annua...\n",
              "2007-08   /investors/reports-filings/annual-report/annua...\n",
              "2006-07   /investors/reports-filings/annual-report/annua...\n",
              "2005-06   /investors/reports-filings/annual-report/annua...\n",
              "2004-05   /investors/reports-filings/annual-report/annua...\n",
              "2003-04   /investors/reports-filings/annual-report/annua...\n",
              "2002-03   /investors/reports-filings/annual-report/annua...\n",
              "2001-02   /investors/reports-filings/annual-report/annua...\n",
              "2000-01   /investors/reports-filings/annual-report/annua...\n",
              "1999-00   /investors/reports-filings/annual-report/annua...\n",
              "1998-99   /investors/reports-filings/annual-report/annua...\n",
              "1997-98   /investors/reports-filings/annual-report/annua...\n",
              "1996-97   /investors/reports-filings/annual-report/annua...\n",
              "1995-96   /investors/reports-filings/annual-report/annua...\n",
              "1994-95   /investors/reports-filings/annual-report/annua...\n",
              "1993-94   /investors/reports-filings/annual-report/annua..."
            ],
            "text/html": [
              "\n",
              "  <div id=\"df-a055c269-78d4-48c6-9f84-a50b3f9de9e9\">\n",
              "    <div class=\"colab-df-container\">\n",
              "      <div>\n",
              "<style scoped>\n",
              "    .dataframe tbody tr th:only-of-type {\n",
              "        vertical-align: middle;\n",
              "    }\n",
              "\n",
              "    .dataframe tbody tr th {\n",
              "        vertical-align: top;\n",
              "    }\n",
              "\n",
              "    .dataframe thead th {\n",
              "        text-align: right;\n",
              "    }\n",
              "</style>\n",
              "<table border=\"1\" class=\"dataframe\">\n",
              "  <thead>\n",
              "    <tr style=\"text-align: right;\">\n",
              "      <th></th>\n",
              "      <th>Annual Reports</th>\n",
              "    </tr>\n",
              "  </thead>\n",
              "  <tbody>\n",
              "    <tr>\n",
              "      <th>2023-24</th>\n",
              "      <td>/investors/reports-filings/annual-report/annua...</td>\n",
              "    </tr>\n",
              "    <tr>\n",
              "      <th>2022-23</th>\n",
              "      <td>/investors/reports-filings/annual-report/annua...</td>\n",
              "    </tr>\n",
              "    <tr>\n",
              "      <th>2021-22</th>\n",
              "      <td>/investors/reports-filings/annual-report/annua...</td>\n",
              "    </tr>\n",
              "    <tr>\n",
              "      <th>2020-21</th>\n",
              "      <td>/investors/reports-filings/annual-report/annua...</td>\n",
              "    </tr>\n",
              "    <tr>\n",
              "      <th>2019-20</th>\n",
              "      <td>/investors/reports-filings/annual-report/annua...</td>\n",
              "    </tr>\n",
              "    <tr>\n",
              "      <th>2018-19</th>\n",
              "      <td>/investors/reports-filings/annual-report/annua...</td>\n",
              "    </tr>\n",
              "    <tr>\n",
              "      <th>2017-18</th>\n",
              "      <td>/investors/reports-filings/annual-report/annua...</td>\n",
              "    </tr>\n",
              "    <tr>\n",
              "      <th>2016-17</th>\n",
              "      <td>/investors/reports-filings/annual-report/annua...</td>\n",
              "    </tr>\n",
              "    <tr>\n",
              "      <th>2015-16</th>\n",
              "      <td>/investors/reports-filings/annual-report/annua...</td>\n",
              "    </tr>\n",
              "    <tr>\n",
              "      <th>2014-15</th>\n",
              "      <td>/investors/reports-filings/annual-report/annua...</td>\n",
              "    </tr>\n",
              "    <tr>\n",
              "      <th>2013-14</th>\n",
              "      <td>/investors/reports-filings/annual-report/annua...</td>\n",
              "    </tr>\n",
              "    <tr>\n",
              "      <th>2012-13*</th>\n",
              "      <td>/investors/reports-filings/annual-report/annua...</td>\n",
              "    </tr>\n",
              "    <tr>\n",
              "      <th>2011-12</th>\n",
              "      <td>/investors/reports-filings/annual-report/annua...</td>\n",
              "    </tr>\n",
              "    <tr>\n",
              "      <th>2010-11</th>\n",
              "      <td>/content/dam/infosys-web/en/investors/reports-...</td>\n",
              "    </tr>\n",
              "    <tr>\n",
              "      <th>2009-10</th>\n",
              "      <td>/investors/reports-filings/annual-report/annua...</td>\n",
              "    </tr>\n",
              "    <tr>\n",
              "      <th>2008-09</th>\n",
              "      <td>/investors/reports-filings/annual-report/annua...</td>\n",
              "    </tr>\n",
              "    <tr>\n",
              "      <th>2007-08</th>\n",
              "      <td>/investors/reports-filings/annual-report/annua...</td>\n",
              "    </tr>\n",
              "    <tr>\n",
              "      <th>2006-07</th>\n",
              "      <td>/investors/reports-filings/annual-report/annua...</td>\n",
              "    </tr>\n",
              "    <tr>\n",
              "      <th>2005-06</th>\n",
              "      <td>/investors/reports-filings/annual-report/annua...</td>\n",
              "    </tr>\n",
              "    <tr>\n",
              "      <th>2004-05</th>\n",
              "      <td>/investors/reports-filings/annual-report/annua...</td>\n",
              "    </tr>\n",
              "    <tr>\n",
              "      <th>2003-04</th>\n",
              "      <td>/investors/reports-filings/annual-report/annua...</td>\n",
              "    </tr>\n",
              "    <tr>\n",
              "      <th>2002-03</th>\n",
              "      <td>/investors/reports-filings/annual-report/annua...</td>\n",
              "    </tr>\n",
              "    <tr>\n",
              "      <th>2001-02</th>\n",
              "      <td>/investors/reports-filings/annual-report/annua...</td>\n",
              "    </tr>\n",
              "    <tr>\n",
              "      <th>2000-01</th>\n",
              "      <td>/investors/reports-filings/annual-report/annua...</td>\n",
              "    </tr>\n",
              "    <tr>\n",
              "      <th>1999-00</th>\n",
              "      <td>/investors/reports-filings/annual-report/annua...</td>\n",
              "    </tr>\n",
              "    <tr>\n",
              "      <th>1998-99</th>\n",
              "      <td>/investors/reports-filings/annual-report/annua...</td>\n",
              "    </tr>\n",
              "    <tr>\n",
              "      <th>1997-98</th>\n",
              "      <td>/investors/reports-filings/annual-report/annua...</td>\n",
              "    </tr>\n",
              "    <tr>\n",
              "      <th>1996-97</th>\n",
              "      <td>/investors/reports-filings/annual-report/annua...</td>\n",
              "    </tr>\n",
              "    <tr>\n",
              "      <th>1995-96</th>\n",
              "      <td>/investors/reports-filings/annual-report/annua...</td>\n",
              "    </tr>\n",
              "    <tr>\n",
              "      <th>1994-95</th>\n",
              "      <td>/investors/reports-filings/annual-report/annua...</td>\n",
              "    </tr>\n",
              "    <tr>\n",
              "      <th>1993-94</th>\n",
              "      <td>/investors/reports-filings/annual-report/annua...</td>\n",
              "    </tr>\n",
              "  </tbody>\n",
              "</table>\n",
              "</div>\n",
              "      <button class=\"colab-df-convert\" onclick=\"convertToInteractive('df-a055c269-78d4-48c6-9f84-a50b3f9de9e9')\"\n",
              "              title=\"Convert this dataframe to an interactive table.\"\n",
              "              style=\"display:none;\">\n",
              "        \n",
              "  <svg xmlns=\"http://www.w3.org/2000/svg\" height=\"24px\"viewBox=\"0 0 24 24\"\n",
              "       width=\"24px\">\n",
              "    <path d=\"M0 0h24v24H0V0z\" fill=\"none\"/>\n",
              "    <path d=\"M18.56 5.44l.94 2.06.94-2.06 2.06-.94-2.06-.94-.94-2.06-.94 2.06-2.06.94zm-11 1L8.5 8.5l.94-2.06 2.06-.94-2.06-.94L8.5 2.5l-.94 2.06-2.06.94zm10 10l.94 2.06.94-2.06 2.06-.94-2.06-.94-.94-2.06-.94 2.06-2.06.94z\"/><path d=\"M17.41 7.96l-1.37-1.37c-.4-.4-.92-.59-1.43-.59-.52 0-1.04.2-1.43.59L10.3 9.45l-7.72 7.72c-.78.78-.78 2.05 0 2.83L4 21.41c.39.39.9.59 1.41.59.51 0 1.02-.2 1.41-.59l7.78-7.78 2.81-2.81c.8-.78.8-2.07 0-2.86zM5.41 20L4 18.59l7.72-7.72 1.47 1.35L5.41 20z\"/>\n",
              "  </svg>\n",
              "      </button>\n",
              "      \n",
              "  <style>\n",
              "    .colab-df-container {\n",
              "      display:flex;\n",
              "      flex-wrap:wrap;\n",
              "      gap: 12px;\n",
              "    }\n",
              "\n",
              "    .colab-df-convert {\n",
              "      background-color: #E8F0FE;\n",
              "      border: none;\n",
              "      border-radius: 50%;\n",
              "      cursor: pointer;\n",
              "      display: none;\n",
              "      fill: #1967D2;\n",
              "      height: 32px;\n",
              "      padding: 0 0 0 0;\n",
              "      width: 32px;\n",
              "    }\n",
              "\n",
              "    .colab-df-convert:hover {\n",
              "      background-color: #E2EBFA;\n",
              "      box-shadow: 0px 1px 2px rgba(60, 64, 67, 0.3), 0px 1px 3px 1px rgba(60, 64, 67, 0.15);\n",
              "      fill: #174EA6;\n",
              "    }\n",
              "\n",
              "    [theme=dark] .colab-df-convert {\n",
              "      background-color: #3B4455;\n",
              "      fill: #D2E3FC;\n",
              "    }\n",
              "\n",
              "    [theme=dark] .colab-df-convert:hover {\n",
              "      background-color: #434B5C;\n",
              "      box-shadow: 0px 1px 3px 1px rgba(0, 0, 0, 0.15);\n",
              "      filter: drop-shadow(0px 1px 2px rgba(0, 0, 0, 0.3));\n",
              "      fill: #FFFFFF;\n",
              "    }\n",
              "  </style>\n",
              "\n",
              "      <script>\n",
              "        const buttonEl =\n",
              "          document.querySelector('#df-a055c269-78d4-48c6-9f84-a50b3f9de9e9 button.colab-df-convert');\n",
              "        buttonEl.style.display =\n",
              "          google.colab.kernel.accessAllowed ? 'block' : 'none';\n",
              "\n",
              "        async function convertToInteractive(key) {\n",
              "          const element = document.querySelector('#df-a055c269-78d4-48c6-9f84-a50b3f9de9e9');\n",
              "          const dataTable =\n",
              "            await google.colab.kernel.invokeFunction('convertToInteractive',\n",
              "                                                     [key], {});\n",
              "          if (!dataTable) return;\n",
              "\n",
              "          const docLinkHtml = 'Like what you see? Visit the ' +\n",
              "            '<a target=\"_blank\" href=https://colab.research.google.com/notebooks/data_table.ipynb>data table notebook</a>'\n",
              "            + ' to learn more about interactive tables.';\n",
              "          element.innerHTML = '';\n",
              "          dataTable['output_type'] = 'display_data';\n",
              "          await google.colab.output.renderOutput(dataTable, element);\n",
              "          const docLink = document.createElement('div');\n",
              "          docLink.innerHTML = docLinkHtml;\n",
              "          element.appendChild(docLink);\n",
              "        }\n",
              "      </script>\n",
              "    </div>\n",
              "  </div>\n",
              "  "
            ]
          },
          "metadata": {},
          "execution_count": 12
        }
      ]
    }
  ]
}